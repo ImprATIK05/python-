{
  "nbformat": 4,
  "nbformat_minor": 0,
  "metadata": {
    "colab": {
      "name": "Untitled1.ipynb",
      "provenance": [],
      "collapsed_sections": [],
      "toc_visible": true,
      "authorship_tag": "ABX9TyPgvo52Xx0vQZpENdqWzzSF",
      "include_colab_link": true
    },
    "kernelspec": {
      "name": "python3",
      "display_name": "Python 3"
    },
    "language_info": {
      "name": "python"
    }
  },
  "cells": [
    {
      "cell_type": "markdown",
      "metadata": {
        "id": "view-in-github",
        "colab_type": "text"
      },
      "source": [
        "<a href=\"https://colab.research.google.com/github/ImprATIK05/python-/blob/main/Untitled1.ipynb\" target=\"_parent\"><img src=\"https://colab.research.google.com/assets/colab-badge.svg\" alt=\"Open In Colab\"/></a>"
      ]
    },
    {
      "cell_type": "code",
      "execution_count": null,
      "metadata": {
        "colab": {
          "base_uri": "https://localhost:8080/"
        },
        "id": "mXqs4mEzOoqc",
        "outputId": "6999be90-abcf-494b-db74-20581d105b53"
      },
      "outputs": [
        {
          "output_type": "stream",
          "name": "stdout",
          "text": [
            "its truT\n"
          ]
        }
      ],
      "source": [
        "sif True:\n",
        "  print('its truT')"
      ]
    },
    {
      "cell_type": "code",
      "source": [
        "jyotsana  = True\n",
        "\n",
        "if jyotsana:\n",
        "  print('loves me !')\n",
        "else:\n",
        "    print('dont love me ')"
      ],
      "metadata": {
        "id": "3CSSgFjSP26-"
      },
      "execution_count": null,
      "outputs": []
    },
    {
      "cell_type": "markdown",
      "source": [
        "# New Section"
      ],
      "metadata": {
        "id": "7C8roAJaJLNS"
      }
    },
    {
      "cell_type": "code",
      "source": [
        "loc = 'store'\n",
        "\n",
        "if loc == 'auto shop':\n",
        "  print('car are cools')\n",
        "elif loc == \"Bank\":\n",
        "  print('money is cool!')\n",
        "elif loc == 'store':\n",
        "  print('welcome to store')\n",
        "else:\n",
        "  print('i dont know anything!')"
      ],
      "metadata": {
        "colab": {
          "base_uri": "https://localhost:8080/"
        },
        "id": "R_7mc2HlUokm",
        "outputId": "1f6d8d76-ae1f-4fa4-cc24-1531422afe97"
      },
      "execution_count": null,
      "outputs": [
        {
          "output_type": "stream",
          "name": "stdout",
          "text": [
            "welcome to store\n"
          ]
        }
      ]
    },
    {
      "cell_type": "code",
      "source": [
        "#while loop examples \n",
        "x = 0\n",
        "\n",
        "while x < 5 :\n",
        "  print(f\"current value of x is {x}\")\n",
        "  x = x + 1"
      ],
      "metadata": {
        "colab": {
          "base_uri": "https://localhost:8080/"
        },
        "id": "z1xvhQVBS4Rw",
        "outputId": "2b0cf8b5-ab83-4089-ce85-72b49f694942"
      },
      "execution_count": null,
      "outputs": [
        {
          "output_type": "stream",
          "name": "stdout",
          "text": [
            "current value of x is 0\n",
            "current value of x is 1\n",
            "current value of x is 2\n",
            "current value of x is 3\n",
            "current value of x is 4\n"
          ]
        }
      ]
    },
    {
      "cell_type": "code",
      "source": [
        "name = 'Laudu'\n",
        "\n",
        "if name == 'pratik':\n",
        "  print('Hello Pratik!')\n",
        "elif name == \"Rohit\":\n",
        "  print('bharwa hai sala')\n",
        "elif name == 'Aniket':\n",
        "  print('Mc hai sala')\n",
        "else:\n",
        "  print('Rohit aur Aaniket dono dalle hai saale chutiyee')   "
      ],
      "metadata": {
        "colab": {
          "base_uri": "https://localhost:8080/"
        },
        "id": "orTyqqNlVx3m",
        "outputId": "f8c0f629-7890-466f-ae98-8ef7634f8781"
      },
      "execution_count": null,
      "outputs": [
        {
          "output_type": "stream",
          "name": "stdout",
          "text": [
            "Rohit aur Aaniket dono dalle hai saale chutiyee\n"
          ]
        }
      ]
    },
    {
      "cell_type": "code",
      "source": [
        "mylist = [1,2,3,4,5,6,7,8,9,10]"
      ],
      "metadata": {
        "id": "YQsyRRoyjVLz"
      },
      "execution_count": null,
      "outputs": []
    },
    {
      "cell_type": "code",
      "source": [
        "for num in mylist:\n",
        "  #check for odd \n",
        "  if num % 2 == 1:\n",
        "    print(num)\n"
      ],
      "metadata": {
        "colab": {
          "base_uri": "https://localhost:8080/"
        },
        "id": "1Veg1dUrmM6l",
        "outputId": "b8533b12-f405-4173-c22d-9e7972f8effc"
      },
      "execution_count": null,
      "outputs": [
        {
          "output_type": "stream",
          "name": "stdout",
          "text": [
            "1\n",
            "3\n",
            "5\n",
            "7\n",
            "9\n"
          ]
        }
      ]
    },
    {
      "cell_type": "code",
      "source": [
        "for num in mylist:\n",
        "  if num % 2 == 0:\n",
        "    print(num)\n",
        "  else:\n",
        "    print(f'odd number: {num}')  "
      ],
      "metadata": {
        "colab": {
          "base_uri": "https://localhost:8080/"
        },
        "id": "1JlTACnmp6Dp",
        "outputId": "7a0a2171-cdfa-4b73-fc60-95a17815b4e7"
      },
      "execution_count": null,
      "outputs": [
        {
          "output_type": "stream",
          "name": "stdout",
          "text": [
            "odd number: 1\n",
            "2\n",
            "odd number: 3\n",
            "4\n",
            "odd number: 5\n",
            "6\n",
            "odd number: 7\n",
            "8\n",
            "odd number: 9\n",
            "10\n"
          ]
        }
      ]
    },
    {
      "cell_type": "code",
      "source": [
        "list_name = 0\n",
        "for num in mylist:\n",
        "  list_name = list_name + num\n",
        "\n",
        "print(list_name)"
      ],
      "metadata": {
        "colab": {
          "base_uri": "https://localhost:8080/"
        },
        "id": "pft_giTrriCF",
        "outputId": "453c7579-94ae-4986-b244-deab9517bc38"
      },
      "execution_count": null,
      "outputs": [
        {
          "output_type": "stream",
          "name": "stdout",
          "text": [
            "55\n"
          ]
        }
      ]
    },
    {
      "cell_type": "code",
      "source": [
        "for _ in \"pratik\":\n",
        "  print('cool!!')"
      ],
      "metadata": {
        "colab": {
          "base_uri": "https://localhost:8080/"
        },
        "id": "Qi4BE996uKCY",
        "outputId": "cc5ffcfd-0b26-4afb-b64d-631645686b4c"
      },
      "execution_count": null,
      "outputs": [
        {
          "output_type": "stream",
          "name": "stdout",
          "text": [
            "cool!!\n",
            "cool!!\n",
            "cool!!\n",
            "cool!!\n",
            "cool!!\n",
            "cool!!\n"
          ]
        }
      ]
    },
    {
      "cell_type": "code",
      "source": [
        "myname = [ 20,40,50,60,70]\n"
      ],
      "metadata": {
        "id": "2uRWkIWzvwty"
      },
      "execution_count": null,
      "outputs": []
    },
    {
      "cell_type": "code",
      "source": [
        "mylist = [(1,2) , (3,4) , (4,5)]"
      ],
      "metadata": {
        "id": "c9pMZU66v93X"
      },
      "execution_count": null,
      "outputs": []
    },
    {
      "cell_type": "code",
      "source": [
        "for item in mylist:\n",
        "  print(item)"
      ],
      "metadata": {
        "colab": {
          "base_uri": "https://localhost:8080/"
        },
        "id": "XxM1qj8HxGUW",
        "outputId": "98e01d12-f0f6-48c2-f04f-6ad0014cf094"
      },
      "execution_count": null,
      "outputs": [
        {
          "output_type": "stream",
          "name": "stdout",
          "text": [
            "(1, 2)\n",
            "(3, 4)\n",
            "(4, 5)\n"
          ]
        }
      ]
    },
    {
      "cell_type": "code",
      "source": [
        "for a,b in mylist:\n",
        "  #tuple unpacking examples\n",
        "  print(a/b)\n",
        "      "
      ],
      "metadata": {
        "colab": {
          "base_uri": "https://localhost:8080/"
        },
        "id": "4hZx3yuyy7lE",
        "outputId": "fc4906d1-7cb2-487d-b31e-b619b3602a5e"
      },
      "execution_count": null,
      "outputs": [
        {
          "output_type": "stream",
          "name": "stdout",
          "text": [
            "0.5\n",
            "0.75\n",
            "0.8\n"
          ]
        }
      ]
    },
    {
      "cell_type": "code",
      "source": [
        "mylist = [(1,2,3) , (4,5,6) , (7,8,9)]\n"
      ],
      "metadata": {
        "id": "27lXZa6HzqiP"
      },
      "execution_count": null,
      "outputs": []
    },
    {
      "cell_type": "code",
      "source": [
        "for item in mylist:\n",
        "  print(item)"
      ],
      "metadata": {
        "colab": {
          "base_uri": "https://localhost:8080/"
        },
        "id": "E0-lnAwW0FAC",
        "outputId": "c57bb6a1-7c82-456f-b63e-5333cd446a01"
      },
      "execution_count": null,
      "outputs": [
        {
          "output_type": "stream",
          "name": "stdout",
          "text": [
            "(1, 2, 3)\n",
            "(4, 5, 6)\n",
            "(7, 8, 9)\n"
          ]
        }
      ]
    },
    {
      "cell_type": "code",
      "source": [
        "d = { 'k1':100 , 'k2':200 , 'k3':300}"
      ],
      "metadata": {
        "id": "fQ1CKqgD2nYH"
      },
      "execution_count": null,
      "outputs": []
    },
    {
      "cell_type": "code",
      "source": [
        "for key,value in d.items():\n",
        "  print(key , item)"
      ],
      "metadata": {
        "colab": {
          "base_uri": "https://localhost:8080/"
        },
        "id": "NZzIEwHR22dk",
        "outputId": "e144c74b-340f-4968-9346-7f76c6b8d82a"
      },
      "execution_count": null,
      "outputs": [
        {
          "output_type": "stream",
          "name": "stdout",
          "text": [
            "k1 k3\n",
            "k2 k3\n",
            "k3 k3\n"
          ]
        }
      ]
    },
    {
      "cell_type": "code",
      "source": [
        "x = [1,2,3]\n",
        "for item in x:\n",
        "  #comment\n",
        "  pass\n",
        "\n",
        "\n",
        "print('end my script')  "
      ],
      "metadata": {
        "colab": {
          "base_uri": "https://localhost:8080/"
        },
        "id": "61fdPadVPYQ5",
        "outputId": "3b7f0e07-9a99-4948-af91-d82777de164a"
      },
      "execution_count": null,
      "outputs": [
        {
          "output_type": "stream",
          "name": "stdout",
          "text": [
            "end my script\n"
          ]
        }
      ]
    },
    {
      "cell_type": "code",
      "source": [
        "mystring = 'pratik'\n"
      ],
      "metadata": {
        "id": "MWI33uAzWy2k"
      },
      "execution_count": null,
      "outputs": []
    },
    {
      "cell_type": "code",
      "source": [
        "for lettter in mystring:\n",
        "\n",
        "if letter == 'a' :\n",
        "    continue\n",
        "    \n",
        "  print(pratik)  "
      ],
      "metadata": {
        "colab": {
          "base_uri": "https://localhost:8080/",
          "height": 130
        },
        "id": "6GyXzx8EXMBk",
        "outputId": "953c9d84-970f-4287-a7d4-c89d68a0900d"
      },
      "execution_count": null,
      "outputs": [
        {
          "output_type": "error",
          "ename": "IndentationError",
          "evalue": "ignored",
          "traceback": [
            "\u001b[0;36m  File \u001b[0;32m\"<ipython-input-12-36f26d6ac95f>\"\u001b[0;36m, line \u001b[0;32m3\u001b[0m\n\u001b[0;31m    if letter == 'a' :\u001b[0m\n\u001b[0m     ^\u001b[0m\n\u001b[0;31mIndentationError\u001b[0m\u001b[0;31m:\u001b[0m expected an indented block\n"
          ]
        }
      ]
    },
    {
      "cell_type": "code",
      "source": [
        "mystring = \" sammy \""
      ],
      "metadata": {
        "id": "0-KioIcWkoy3"
      },
      "execution_count": null,
      "outputs": []
    },
    {
      "cell_type": "code",
      "source": [
        "Hungry = True\n",
        "If hungry:\n",
        "  Print(\"give me food\") to"
      ],
      "metadata": {
        "colab": {
          "base_uri": "https://localhost:8080/",
          "height": 131
        },
        "id": "kydW4nI8mOiP",
        "outputId": "2cd3bf09-d248-4cf8-a8f3-c819c7f458da"
      },
      "execution_count": null,
      "outputs": [
        {
          "output_type": "error",
          "ename": "SyntaxError",
          "evalue": "ignored",
          "traceback": [
            "\u001b[0;36m  File \u001b[0;32m\"<ipython-input-5-dfc2c32094bd>\"\u001b[0;36m, line \u001b[0;32m2\u001b[0m\n\u001b[0;31m    If hungry:\u001b[0m\n\u001b[0m            ^\u001b[0m\n\u001b[0;31mSyntaxError\u001b[0m\u001b[0;31m:\u001b[0m invalid syntax\n"
          ]
        }
      ]
    },
    {
      "cell_type": "code",
      "source": [
        "print ('pratik')"
      ],
      "metadata": {
        "colab": {
          "base_uri": "https://localhost:8080/"
        },
        "id": "YqzQYSNam1FF",
        "outputId": "99bae374-28e2-4016-e199-d342b84400ba"
      },
      "execution_count": null,
      "outputs": [
        {
          "output_type": "stream",
          "name": "stdout",
          "text": [
            "pratik\n"
          ]
        }
      ]
    },
    {
      "cell_type": "code",
      "source": [
        "hungry = True\n",
        "True\n"
      ],
      "metadata": {
        "id": "84nXosX3m959"
      },
      "execution_count": null,
      "outputs": []
    },
    {
      "cell_type": "code",
      "source": [
        "mylist = [1,2,3]"
      ],
      "metadata": {
        "id": "q4u_FVzNpKXf"
      },
      "execution_count": null,
      "outputs": []
    },
    {
      "cell_type": "code",
      "source": [
        "list(range(0,11,2))"
      ],
      "metadata": {
        "colab": {
          "base_uri": "https://localhost:8080/"
        },
        "id": "HQtuaPE7pVhT",
        "outputId": "a4b1821c-47f9-4640-a70b-5a48845c6f0f"
      },
      "execution_count": null,
      "outputs": [
        {
          "output_type": "execute_result",
          "data": {
            "text/plain": [
              "[0, 2, 4, 6, 8, 10]"
            ]
          },
          "metadata": {},
          "execution_count": 2
        }
      ]
    },
    {
      "cell_type": "code",
      "source": [
        "#zip in python\n",
        "mylist1 = [1,2,3]\n",
        "mylist2 = [\"a\" , \"b\" , \"c\"]\n",
        "mylist3 = [100,200,300]"
      ],
      "metadata": {
        "id": "bLBabA2DrvzL"
      },
      "execution_count": null,
      "outputs": []
    },
    {
      "cell_type": "code",
      "source": [
        "for item in zip (mylist1,mylist2,mylist3):\n",
        "  print(item)"
      ],
      "metadata": {
        "colab": {
          "base_uri": "https://localhost:8080/"
        },
        "id": "Oh2nyt69sMrL",
        "outputId": "f176aaf7-c4c6-4915-c5ec-daf00855d186"
      },
      "execution_count": null,
      "outputs": [
        {
          "output_type": "stream",
          "name": "stdout",
          "text": [
            "(1, 'a', 100)\n",
            "(2, 'b', 200)\n",
            "(3, 'c', 300)\n"
          ]
        }
      ]
    },
    {
      "cell_type": "code",
      "source": [
        "list(zip(mylist1,mylist2,mylist3))"
      ],
      "metadata": {
        "colab": {
          "base_uri": "https://localhost:8080/"
        },
        "id": "XgVF-JqUs1tK",
        "outputId": "79e42a9a-ccc1-4995-9033-6edf4f6ddbec"
      },
      "execution_count": null,
      "outputs": [
        {
          "output_type": "execute_result",
          "data": {
            "text/plain": [
              "[(1, 'a', 100), (2, 'b', 200), (3, 'c', 300)]"
            ]
          },
          "metadata": {},
          "execution_count": 6
        }
      ]
    },
    {
      "cell_type": "code",
      "source": [
        "1 in [1,2,3]"
      ],
      "metadata": {
        "colab": {
          "base_uri": "https://localhost:8080/"
        },
        "id": "-JBqK8D0u4yP",
        "outputId": "69b21a56-9f04-4097-f7b3-7b32d374c183"
      },
      "execution_count": null,
      "outputs": [
        {
          "output_type": "execute_result",
          "data": {
            "text/plain": [
              "True"
            ]
          },
          "metadata": {},
          "execution_count": 7
        }
      ]
    },
    {
      "cell_type": "code",
      "source": [
        "\"pratik\" in {\"pooja\" : 200}"
      ],
      "metadata": {
        "colab": {
          "base_uri": "https://localhost:8080/"
        },
        "id": "BKgAiqpkvw10",
        "outputId": "41279ff6-da60-41e5-a108-8708fa0ceff6"
      },
      "execution_count": null,
      "outputs": [
        {
          "output_type": "execute_result",
          "data": {
            "text/plain": [
              "False"
            ]
          },
          "metadata": {},
          "execution_count": 8
        }
      ]
    },
    {
      "cell_type": "code",
      "source": [
        "d = {\"pratik\":100}\n",
        "345 in d.values()"
      ],
      "metadata": {
        "colab": {
          "base_uri": "https://localhost:8080/"
        },
        "id": "rSgfFT3lv7ap",
        "outputId": "0ddf6c16-b543-4228-9931-705c4e0f00ca"
      },
      "execution_count": null,
      "outputs": [
        {
          "output_type": "execute_result",
          "data": {
            "text/plain": [
              "False"
            ]
          },
          "metadata": {},
          "execution_count": 10
        }
      ]
    },
    {
      "cell_type": "code",
      "source": [
        "mylist = [10,20,30,100]\n"
      ],
      "metadata": {
        "id": "eOHcTK60xvmE"
      },
      "execution_count": null,
      "outputs": []
    },
    {
      "cell_type": "code",
      "source": [
        "max(mylist)"
      ],
      "metadata": {
        "colab": {
          "base_uri": "https://localhost:8080/"
        },
        "id": "bbdwL2bCx10Z",
        "outputId": "3cdd9845-7733-4090-b5ee-2382a98e0a1b"
      },
      "execution_count": null,
      "outputs": [
        {
          "output_type": "execute_result",
          "data": {
            "text/plain": [
              "100"
            ]
          },
          "metadata": {},
          "execution_count": 13
        }
      ]
    },
    {
      "cell_type": "code",
      "source": [
        "from random import shuffle"
      ],
      "metadata": {
        "id": "k2UFyv2C2A1O"
      },
      "execution_count": null,
      "outputs": []
    },
    {
      "cell_type": "code",
      "source": [
        "mylist = [1,2,3,4,5,6,7]"
      ],
      "metadata": {
        "id": "KUK4Ga8u5osZ"
      },
      "execution_count": null,
      "outputs": []
    },
    {
      "cell_type": "code",
      "source": [
        "shuffle(mylist)"
      ],
      "metadata": {
        "id": "yf-PXcs25u4U"
      },
      "execution_count": null,
      "outputs": []
    },
    {
      "cell_type": "code",
      "source": [
        "from random import randint"
      ],
      "metadata": {
        "id": "f7EEY50u6WPr"
      },
      "execution_count": null,
      "outputs": []
    },
    {
      "cell_type": "code",
      "source": [
        "mynum = randint(0,10)"
      ],
      "metadata": {
        "id": "u9GAv7VA6tF2"
      },
      "execution_count": null,
      "outputs": []
    },
    {
      "cell_type": "code",
      "source": [
        "mynum"
      ],
      "metadata": {
        "colab": {
          "base_uri": "https://localhost:8080/"
        },
        "id": "cE6FM14-60sS",
        "outputId": "f37e082f-0487-4a06-c7d1-bfb7037052aa"
      },
      "execution_count": null,
      "outputs": [
        {
          "output_type": "execute_result",
          "data": {
            "text/plain": [
              "5"
            ]
          },
          "metadata": {},
          "execution_count": 25
        }
      ]
    },
    {
      "cell_type": "code",
      "source": [
        "input('inter a number here')"
      ],
      "metadata": {
        "colab": {
          "base_uri": "https://localhost:8080/",
          "height": 53
        },
        "id": "BLu0WVqO7KlU",
        "outputId": "357f0a20-57e6-46fd-9d2c-4c155fec9e91"
      },
      "execution_count": null,
      "outputs": [
        {
          "name": "stdout",
          "output_type": "stream",
          "text": [
            "inter a number here1\n"
          ]
        },
        {
          "output_type": "execute_result",
          "data": {
            "application/vnd.google.colaboratory.intrinsic+json": {
              "type": "string"
            },
            "text/plain": [
              "'1'"
            ]
          },
          "metadata": {},
          "execution_count": 26
        }
      ]
    },
    {
      "cell_type": "code",
      "source": [
        "input('enter a placename')"
      ],
      "metadata": {
        "colab": {
          "base_uri": "https://localhost:8080/",
          "height": 53
        },
        "id": "C0ZpyGAPvOS0",
        "outputId": "892aeb26-2ada-4433-c3f3-8b0fe0f7280e"
      },
      "execution_count": null,
      "outputs": [
        {
          "name": "stdout",
          "output_type": "stream",
          "text": [
            "enter a placenamenoida\n"
          ]
        },
        {
          "output_type": "execute_result",
          "data": {
            "application/vnd.google.colaboratory.intrinsic+json": {
              "type": "string"
            },
            "text/plain": [
              "'noida'"
            ]
          },
          "metadata": {},
          "execution_count": 2
        }
      ]
    },
    {
      "cell_type": "code",
      "source": [
        "loc = 'prtik is in love with tanisha'\n",
        "\n",
        "if loc == 'pratik love tanisha':\n",
        "  print('tanisha also loves pratik')\n",
        "elif loc == 'pratik is in love with tanisha':\n",
        "  print('but tanisha loves pratik')  \n"
      ],
      "metadata": {
        "id": "i-apMs8UUXee"
      },
      "execution_count": null,
      "outputs": []
    },
    {
      "cell_type": "code",
      "source": [
        "mylist = [1,2,3,4]"
      ],
      "metadata": {
        "id": "k6QNKpRXwGGj"
      },
      "execution_count": null,
      "outputs": []
    },
    {
      "cell_type": "code",
      "source": [
        "mylist.append(5)"
      ],
      "metadata": {
        "id": "x1zzvn03wLR1"
      },
      "execution_count": null,
      "outputs": []
    },
    {
      "cell_type": "code",
      "source": [
        "mylist"
      ],
      "metadata": {
        "colab": {
          "base_uri": "https://localhost:8080/"
        },
        "id": "IKOMb5MVwUJ8",
        "outputId": "41acfdd3-6d95-4227-a751-ebdfa4b35dda"
      },
      "execution_count": null,
      "outputs": [
        {
          "output_type": "execute_result",
          "data": {
            "text/plain": [
              "[1, 2, 3, 4, 5]"
            ]
          },
          "metadata": {},
          "execution_count": 9
        }
      ]
    },
    {
      "cell_type": "code",
      "source": [
        "mylist.pop()"
      ],
      "metadata": {
        "colab": {
          "base_uri": "https://localhost:8080/"
        },
        "id": "HqoO9LyswW1f",
        "outputId": "d5c8ad67-1b1b-4741-dc45-15a4b744d64e"
      },
      "execution_count": null,
      "outputs": [
        {
          "output_type": "execute_result",
          "data": {
            "text/plain": [
              "5"
            ]
          },
          "metadata": {},
          "execution_count": 10
        }
      ]
    },
    {
      "cell_type": "code",
      "source": [
        "mylist"
      ],
      "metadata": {
        "colab": {
          "base_uri": "https://localhost:8080/"
        },
        "id": "69jPpPLQwaoY",
        "outputId": "6360d941-3dde-4745-a0f2-4a3c30f61ee5"
      },
      "execution_count": null,
      "outputs": [
        {
          "output_type": "execute_result",
          "data": {
            "text/plain": [
              "[1, 2, 3, 4]"
            ]
          },
          "metadata": {},
          "execution_count": 11
        }
      ]
    },
    {
      "cell_type": "code",
      "source": [
        "help(mystring.)"
      ],
      "metadata": {
        "id": "Xt0WIIbWyFiF"
      },
      "execution_count": null,
      "outputs": []
    },
    {
      "cell_type": "code",
      "source": [
        ""
      ],
      "metadata": {
        "id": "0BxIzZnhtmi_"
      },
      "execution_count": null,
      "outputs": []
    },
    {
      "cell_type": "code",
      "source": [
        ""
      ],
      "metadata": {
        "id": "QqhI38-TV-mQ"
      },
      "execution_count": null,
      "outputs": []
    },
    {
      "cell_type": "code",
      "source": [
        "mylist = [1,2,3]"
      ],
      "metadata": {
        "id": "yEcBPsv1ahY9"
      },
      "execution_count": null,
      "outputs": []
    },
    {
      "cell_type": "code",
      "source": [
        "mylist.append(4)"
      ],
      "metadata": {
        "id": "JCaHMy3uav9P"
      },
      "execution_count": null,
      "outputs": []
    },
    {
      "cell_type": "code",
      "source": [
        "mylist"
      ],
      "metadata": {
        "colab": {
          "base_uri": "https://localhost:8080/"
        },
        "id": "jnTz98nHa3UM",
        "outputId": "b14b6ef7-b6e3-4f09-8be7-6f4d4419e967"
      },
      "execution_count": null,
      "outputs": [
        {
          "output_type": "execute_result",
          "data": {
            "text/plain": [
              "[1, 2, 3, 4]"
            ]
          },
          "metadata": {},
          "execution_count": 3
        }
      ]
    },
    {
      "cell_type": "code",
      "source": [
        "mylist.pop()"
      ],
      "metadata": {
        "colab": {
          "base_uri": "https://localhost:8080/"
        },
        "id": "DDfABy5Aa7lH",
        "outputId": "78d27f29-79f1-4fac-fd8b-a8268f54ae4a"
      },
      "execution_count": null,
      "outputs": [
        {
          "output_type": "execute_result",
          "data": {
            "text/plain": [
              "4"
            ]
          },
          "metadata": {},
          "execution_count": 4
        }
      ]
    },
    {
      "cell_type": "code",
      "source": [
        "mylist"
      ],
      "metadata": {
        "colab": {
          "base_uri": "https://localhost:8080/"
        },
        "id": "nyIQBp-AbFlx",
        "outputId": "11714ade-150e-4a5d-a775-9c8967afac44"
      },
      "execution_count": null,
      "outputs": [
        {
          "output_type": "execute_result",
          "data": {
            "text/plain": [
              "[1, 2, 3]"
            ]
          },
          "metadata": {},
          "execution_count": 5
        }
      ]
    },
    {
      "cell_type": "code",
      "source": [
        "help(mylist.insert)"
      ],
      "metadata": {
        "colab": {
          "base_uri": "https://localhost:8080/"
        },
        "id": "vWaNeQN1b6Tc",
        "outputId": "26525c8c-0737-4a58-eac1-6e98bbc53005"
      },
      "execution_count": null,
      "outputs": [
        {
          "output_type": "stream",
          "name": "stdout",
          "text": [
            "Help on built-in function insert:\n",
            "\n",
            "insert(index, object, /) method of builtins.list instance\n",
            "    Insert object before index.\n",
            "\n"
          ]
        }
      ]
    },
    {
      "cell_type": "code",
      "source": [
        ""
      ],
      "metadata": {
        "id": "m9znp6zGI0qy"
      },
      "execution_count": null,
      "outputs": []
    },
    {
      "cell_type": "code",
      "source": [
        "def say_hellow():\n",
        "  print(\"hello\")\n",
        "  print(\"are\")\n",
        "  print(\"you?\")"
      ],
      "metadata": {
        "id": "xZWQRrY8S1XD"
      },
      "execution_count": null,
      "outputs": []
    },
    {
      "cell_type": "code",
      "source": [
        "say_hellow()"
      ],
      "metadata": {
        "colab": {
          "base_uri": "https://localhost:8080/"
        },
        "id": "6_erxyELTFWo",
        "outputId": "cf357671-3a3a-4efd-f591-adc758b093f0"
      },
      "execution_count": null,
      "outputs": [
        {
          "output_type": "stream",
          "name": "stdout",
          "text": [
            "hello\n",
            "are\n",
            "you?\n"
          ]
        }
      ]
    },
    {
      "cell_type": "code",
      "source": [
        "def say_hello(name = \"pratik\"):\n",
        "  print(f\"hello {name}\")"
      ],
      "metadata": {
        "id": "wSKNacG4WbSc"
      },
      "execution_count": null,
      "outputs": []
    },
    {
      "cell_type": "code",
      "source": [
        "say_hello()\n"
      ],
      "metadata": {
        "colab": {
          "base_uri": "https://localhost:8080/"
        },
        "id": "rzmu2cMcWs3G",
        "outputId": "553894e1-bff6-4e92-8ac9-79fe6ae0453c"
      },
      "execution_count": null,
      "outputs": [
        {
          "output_type": "stream",
          "name": "stdout",
          "text": [
            "hello pratik\n"
          ]
        }
      ]
    },
    {
      "cell_type": "code",
      "source": [
        "def add_num(num1,num2):\n",
        "  return num1+num2"
      ],
      "metadata": {
        "id": "gns2DiqeX69Q"
      },
      "execution_count": null,
      "outputs": []
    },
    {
      "cell_type": "code",
      "source": [
        "result = add_num(10,20)"
      ],
      "metadata": {
        "id": "9vUnHKbcYNal"
      },
      "execution_count": null,
      "outputs": []
    },
    {
      "cell_type": "code",
      "source": [
        "result"
      ],
      "metadata": {
        "id": "hEMqzHAkYsfv",
        "outputId": "dc206e77-e147-49af-c802-2327ba486779",
        "colab": {
          "base_uri": "https://localhost:8080/"
        }
      },
      "execution_count": null,
      "outputs": [
        {
          "output_type": "execute_result",
          "data": {
            "text/plain": [
              "30"
            ]
          },
          "metadata": {},
          "execution_count": 16
        }
      ]
    },
    {
      "cell_type": "code",
      "source": [
        "print(\"this is {f} double backslash \".format (f=\"//\"))"
      ],
      "metadata": {
        "colab": {
          "base_uri": "https://localhost:8080/"
        },
        "id": "kspCTmweItug",
        "outputId": "3a0a95e4-4332-4d37-d0ed-3fedd483e452"
      },
      "execution_count": null,
      "outputs": [
        {
          "output_type": "stream",
          "name": "stdout",
          "text": [
            "this is // double backslash \n"
          ]
        }
      ]
    },
    {
      "cell_type": "code",
      "source": [
        "txt = \"These are /\\/\\/\\ mountains \"\n",
        "print (txt)"
      ],
      "metadata": {
        "colab": {
          "base_uri": "https://localhost:8080/"
        },
        "id": "F3gnwaMCKlYd",
        "outputId": "95819b18-d761-4903-c6b5-cbba59d29542"
      },
      "execution_count": null,
      "outputs": [
        {
          "output_type": "stream",
          "name": "stdout",
          "text": [
            "These are /\\/\\/\\ mountains \n"
          ]
        }
      ]
    },
    {
      "cell_type": "code",
      "source": [
        "print(\"he is \\tawesome\") #to create space "
      ],
      "metadata": {
        "colab": {
          "base_uri": "https://localhost:8080/"
        },
        "id": "7ejGJ2pbLB6C",
        "outputId": "5bb8778a-9af3-45a7-9bbd-58a7ded5b298"
      },
      "execution_count": null,
      "outputs": [
        {
          "output_type": "stream",
          "name": "stdout",
          "text": [
            "he is \tawesome\n"
          ]
        }
      ]
    },
    {
      "cell_type": "code",
      "source": [
        "print(\"he is \\nawesome\") #to create nxt line"
      ],
      "metadata": {
        "colab": {
          "base_uri": "https://localhost:8080/"
        },
        "id": "zrctq_T2LbUw",
        "outputId": "35c173de-6bd9-4147-c1d5-2a5bc1ef6b9a"
      },
      "execution_count": null,
      "outputs": [
        {
          "output_type": "stream",
          "name": "stdout",
          "text": [
            "he is \n",
            "awesome\n"
          ]
        }
      ]
    },
    {
      "cell_type": "code",
      "source": [
        "def odd_check(num):\n",
        "  return num%2==1"
      ],
      "metadata": {
        "id": "G_EtweTZdvz2"
      },
      "execution_count": null,
      "outputs": []
    },
    {
      "cell_type": "code",
      "source": [
        "odd_check(20)"
      ],
      "metadata": {
        "colab": {
          "base_uri": "https://localhost:8080/"
        },
        "id": "GdHMpIeCeEZU",
        "outputId": "bfd007a9-cd4a-454e-9926-ce30ac2845c7"
      },
      "execution_count": null,
      "outputs": [
        {
          "output_type": "execute_result",
          "data": {
            "text/plain": [
              "False"
            ]
          },
          "metadata": {},
          "execution_count": 19
        }
      ]
    },
    {
      "cell_type": "code",
      "source": [
        "def check_even_list(num_list):\n",
        "  # return all even number in a list\n",
        "\n",
        "  #placeholders variables\n",
        "  even_number = []\n",
        "\n",
        "  for number in num_list:\n",
        "    if number % 2 == 0\n",
        "      even_number.append(number)\n",
        "\n",
        "      else:\n",
        "        pass\n",
        "   return even_numbers     \n"
      ],
      "metadata": {
        "colab": {
          "base_uri": "https://localhost:8080/",
          "height": 130
        },
        "id": "rnbp7V22igTG",
        "outputId": "394ce1eb-345b-4380-e1bb-a3f4bb27b8b2"
      },
      "execution_count": null,
      "outputs": [
        {
          "output_type": "error",
          "ename": "SyntaxError",
          "evalue": "ignored",
          "traceback": [
            "\u001b[0;36m  File \u001b[0;32m\"<ipython-input-1-5fe164c25a6f>\"\u001b[0;36m, line \u001b[0;32m8\u001b[0m\n\u001b[0;31m    if number % 2 == 0\u001b[0m\n\u001b[0m                      ^\u001b[0m\n\u001b[0;31mSyntaxError\u001b[0m\u001b[0;31m:\u001b[0m invalid syntax\n"
          ]
        }
      ]
    },
    {
      "cell_type": "code",
      "source": [
        "stock_price = [('apple' ,200),('goog',400),('msft',100)]"
      ],
      "metadata": {
        "id": "Hd_DcRIUjE2Y"
      },
      "execution_count": null,
      "outputs": []
    },
    {
      "cell_type": "code",
      "source": [
        "for item in stock_price:\n",
        "  print(item)"
      ],
      "metadata": {
        "colab": {
          "base_uri": "https://localhost:8080/"
        },
        "id": "oCeDCmt_7NXr",
        "outputId": "9157b454-4cf0-4a0c-da85-a8ffe84dbf95"
      },
      "execution_count": null,
      "outputs": [
        {
          "output_type": "stream",
          "name": "stdout",
          "text": [
            "('apple', 200)\n",
            "('goog', 400)\n",
            "('msft', 100)\n"
          ]
        }
      ]
    },
    {
      "cell_type": "code",
      "source": [
        "for ticker,price in stock_price :\n",
        "  print (price+(0.1*price))"
      ],
      "metadata": {
        "colab": {
          "base_uri": "https://localhost:8080/"
        },
        "id": "k2r3izIy8JMF",
        "outputId": "cb29121b-ef63-4e24-f0f4-91f4b8d0dde4"
      },
      "execution_count": null,
      "outputs": [
        {
          "output_type": "stream",
          "name": "stdout",
          "text": [
            "220.0\n",
            "440.0\n",
            "110.0\n"
          ]
        }
      ]
    },
    {
      "cell_type": "code",
      "source": [
        "work_hours=[('pratik',200 ),('garima',100),('aditya',50)]"
      ],
      "metadata": {
        "id": "_5OWTc9yF6t1"
      },
      "execution_count": null,
      "outputs": []
    },
    {
      "cell_type": "code",
      "source": [
        "def employee_check(work_hours):\n",
        "  current_min=0\n",
        "  employee_of_month=''\n",
        "\n",
        "  for employee,hours in work_hours:\n",
        "    if hours<current_min:\n",
        "      current_min=hours \n",
        "      employee_of_month=employee\n",
        "\n",
        "  else:\n",
        "      pass\n",
        "      #return\n",
        "      return(employee_of_month,current_min)\n"
      ],
      "metadata": {
        "id": "FIS1d3CBGRrC"
      },
      "execution_count": null,
      "outputs": []
    },
    {
      "cell_type": "code",
      "source": [
        "name,hours = employee_check(work_hours)"
      ],
      "metadata": {
        "id": "5wsAiQSoHrx_"
      },
      "execution_count": null,
      "outputs": []
    },
    {
      "cell_type": "code",
      "source": [
        "name"
      ],
      "metadata": {
        "colab": {
          "base_uri": "https://localhost:8080/",
          "height": 35
        },
        "id": "qhrRe1hJJDGd",
        "outputId": "60d7e124-76aa-4fe5-b326-f640e94bd61d"
      },
      "execution_count": null,
      "outputs": [
        {
          "output_type": "execute_result",
          "data": {
            "text/plain": [
              "''"
            ],
            "application/vnd.google.colaboratory.intrinsic+json": {
              "type": "string"
            }
          },
          "metadata": {},
          "execution_count": 30
        }
      ]
    },
    {
      "cell_type": "code",
      "source": [
        "result"
      ],
      "metadata": {
        "colab": {
          "base_uri": "https://localhost:8080/"
        },
        "id": "AEkkeUI6H8xZ",
        "outputId": "ef0b81d0-eabe-4e39-d268-2ffbea260e3e"
      },
      "execution_count": null,
      "outputs": [
        {
          "output_type": "execute_result",
          "data": {
            "text/plain": [
              "('pratik', 200)"
            ]
          },
          "metadata": {},
          "execution_count": 25
        }
      ]
    },
    {
      "cell_type": "code",
      "source": [
        ""
      ],
      "metadata": {
        "id": "P8L5CmgF9AD3"
      },
      "execution_count": null,
      "outputs": []
    },
    {
      "cell_type": "code",
      "source": [
        "import random\n",
        "\n",
        "class TicTacToe:\n",
        "\n",
        "    def __init__(self):\n",
        "        self.board = []\n",
        "\n",
        "    def create_board(self):\n",
        "        for i in range(3):\n",
        "            row = []\n",
        "            for j in range(3):\n",
        "                row.append('-')\n",
        "            self.board.append(row)\n",
        "\n",
        "    def get_random_first_player(self):\n",
        "        return random.randint(0, 1)\n",
        "\n",
        "    def fix_spot(self, row, col, player):\n",
        "        self.board[row][col] = player\n",
        "\n",
        "    def is_player_win(self, player):\n",
        "        win = None\n",
        "\n",
        "        n = len(self.board)\n",
        "\n",
        "        # checking rows\n",
        "        for i in range(n):\n",
        "            win = True\n",
        "            for j in range(n):\n",
        "                if self.board[i][j] != player:\n",
        "                    win = False\n",
        "                    break\n",
        "            if win:\n",
        "                return win\n",
        "\n",
        "        # checking columns\n",
        "        for i in range(n):\n",
        "            win = True\n",
        "            for j in range(n):\n",
        "                if self.board[j][i] != player:\n",
        "                    win = False\n",
        "                    break\n",
        "            if win:\n",
        "                return win\n",
        "\n",
        "        # checking diagonals\n",
        "        win = True\n",
        "        for i in range(n):\n",
        "            if self.board[i][i] != player:\n",
        "                win = False\n",
        "                break\n",
        "        if win:\n",
        "            return win\n",
        "\n",
        "        win = True\n",
        "        for i in range(n):\n",
        "            if self.board[i][n - 1 - i] != player:\n",
        "                win = False\n",
        "                break\n",
        "        if win:\n",
        "            return win\n",
        "        return False\n",
        "\n",
        "        for row in self.board:\n",
        "            for item in row:\n",
        "                if item == '-':\n",
        "                    return False\n",
        "        return True\n",
        "\n",
        "    def is_board_filled(self):\n",
        "        for row in self.board:\n",
        "            for item in row:\n",
        "                if item == '-':\n",
        "                    return False\n",
        "        return True\n",
        "\n",
        "    def swap_player_turn(self, player):\n",
        "        return 'X' if player == 'O' else 'O'\n",
        "\n",
        "    def show_board(self):\n",
        "        for row in self.board:\n",
        "            for item in row:\n",
        "                print(item, end=\" \")\n",
        "            print()\n",
        "\n",
        "    def start(self):\n",
        "        self.create_board()\n",
        "\n",
        "        player = 'X' if self.get_random_first_player() == 1 else 'O'\n",
        "        while True:\n",
        "            print(f\"Player {player} turn\")\n",
        "\n",
        "            self.show_board()\n",
        "\n",
        "            # taking user input\n",
        "            row, col = list(\n",
        "                map(int, input(\"Enter row and column numbers to fix spot: \").split()))\n",
        "            print()\n",
        "\n",
        "            # fixing the spot\n",
        "            self.fix_spot(row - 1, col - 1, player)\n",
        "\n",
        "            # checking whether current player is won or not\n",
        "            if self.is_player_win(player):\n",
        "                print(f\"Player {player} wins the game!\")\n",
        "                break\n",
        "\n",
        "            # checking whether the game is draw or not\n",
        "            if self.is_board_filled():\n",
        "                print(\"Match Draw!\")\n",
        "                break\n",
        "\n",
        "            # swapping the turn\n",
        "            player = self.swap_player_turn(player)\n",
        "\n",
        "        # showing the final view of board\n",
        "        print()\n",
        "        self.show_board()\n",
        "\n",
        "\n",
        "# starting the game\n",
        "tic_tac_toe = TicTacToe()\n",
        "tic_tac_toe.start()"
      ],
      "metadata": {
        "colab": {
          "base_uri": "https://localhost:8080/"
        },
        "id": "9Y3gSj4zIGyk",
        "outputId": "cafd25ee-db80-49df-ad8b-5f5622b3d821"
      },
      "execution_count": null,
      "outputs": [
        {
          "metadata": {
            "tags": null
          },
          "name": "stdout",
          "output_type": "stream",
          "text": [
            "Player O turn\n",
            "- - - \n",
            "- - - \n",
            "- - - \n"
          ]
        }
      ]
    }
  ]
}